{
 "cells": [
  {
   "cell_type": "markdown",
   "metadata": {},
   "source": [
    "### Which location has a higher payout, and which location has a higher probability of tipping\n",
    "#### Tip amount is relevant to the order the customer has made, which is higly likely correlated with base fare and trip supplment\n",
    "#### And which timeframe has a higher possibility of a higher yield\n",
    "\n"
   ]
  },
  {
   "cell_type": "code",
   "execution_count": 5,
   "metadata": {},
   "outputs": [],
   "source": [
    "import seaborn as sns # for data visualization\n",
    "import matplotlib.pyplot as plt # for data visualization\n",
    "import pandas as pd # for data analysis\n",
    "import plotly.express as px\n",
    "\n",
    "import functions as fn"
   ]
  },
  {
   "cell_type": "code",
   "execution_count": 6,
   "metadata": {},
   "outputs": [
    {
     "data": {
      "application/javascript": [
       "\n",
       "        if (window._pyforest_update_imports_cell) { window._pyforest_update_imports_cell('import os'); }\n",
       "    "
      ],
      "text/plain": [
       "<IPython.core.display.Javascript object>"
      ]
     },
     "metadata": {},
     "output_type": "display_data"
    },
    {
     "data": {
      "text/plain": [
       "['UberEats_July6.csv',\n",
       " 'UberEats_July13.csv',\n",
       " 'UberEats_Aug17.csv',\n",
       " 'UberEats_Aug24.csv',\n",
       " 'UberEats_Aug10.csv',\n",
       " 'UberEats_Aug3.csv']"
      ]
     },
     "execution_count": 6,
     "metadata": {},
     "output_type": "execute_result"
    }
   ],
   "source": [
    "data_base_dir = \"../Data/Uber Eats Fare Data/\"\n",
    "weekly_driving_history = os.listdir(data_base_dir)\n",
    "weekly_driving_history"
   ]
  },
  {
   "cell_type": "code",
   "execution_count": 10,
   "metadata": {},
   "outputs": [
    {
     "name": "stdout",
     "output_type": "stream",
     "text": [
      "../Data/Uber Eats Fare Data/UberEats_July13.csv\n",
      "../Data/Uber Eats Fare Data/UberEats_Aug17.csv\n",
      "../Data/Uber Eats Fare Data/UberEats_Aug24.csv\n",
      "../Data/Uber Eats Fare Data/UberEats_Aug10.csv\n",
      "../Data/Uber Eats Fare Data/UberEats_Aug3.csv\n"
     ]
    },
    {
     "data": {
      "text/html": [
       "<div>\n",
       "<style scoped>\n",
       "    .dataframe tbody tr th:only-of-type {\n",
       "        vertical-align: middle;\n",
       "    }\n",
       "\n",
       "    .dataframe tbody tr th {\n",
       "        vertical-align: top;\n",
       "    }\n",
       "\n",
       "    .dataframe thead th {\n",
       "        text-align: right;\n",
       "    }\n",
       "</style>\n",
       "<table border=\"1\" class=\"dataframe\">\n",
       "  <thead>\n",
       "    <tr style=\"text-align: right;\">\n",
       "      <th></th>\n",
       "      <th>Date/Time</th>\n",
       "      <th>Base Fare</th>\n",
       "      <th>Tip</th>\n",
       "      <th>Surge</th>\n",
       "      <th>Trip Supplement</th>\n",
       "      <th>Quest Promotion</th>\n",
       "      <th>Total</th>\n",
       "      <th>Boost</th>\n",
       "      <th>Toll</th>\n",
       "      <th>Other Promotions</th>\n",
       "    </tr>\n",
       "  </thead>\n",
       "  <tbody>\n",
       "    <tr>\n",
       "      <th>102</th>\n",
       "      <td>2020-08-23 18:47:00</td>\n",
       "      <td>4.54</td>\n",
       "      <td>7.87</td>\n",
       "      <td>0.0</td>\n",
       "      <td>4.09</td>\n",
       "      <td>0.0</td>\n",
       "      <td>19.22</td>\n",
       "      <td>2.72</td>\n",
       "      <td>0</td>\n",
       "      <td>0.0</td>\n",
       "    </tr>\n",
       "    <tr>\n",
       "      <th>103</th>\n",
       "      <td>2020-08-23 19:04:00</td>\n",
       "      <td>2.78</td>\n",
       "      <td>7.86</td>\n",
       "      <td>1.0</td>\n",
       "      <td>2.92</td>\n",
       "      <td>0.0</td>\n",
       "      <td>16.23</td>\n",
       "      <td>1.67</td>\n",
       "      <td>0</td>\n",
       "      <td>0.0</td>\n",
       "    </tr>\n",
       "    <tr>\n",
       "      <th>104</th>\n",
       "      <td>2020-08-23 19:39:00</td>\n",
       "      <td>3.48</td>\n",
       "      <td>5.10</td>\n",
       "      <td>0.0</td>\n",
       "      <td>0.00</td>\n",
       "      <td>0.0</td>\n",
       "      <td>10.67</td>\n",
       "      <td>2.09</td>\n",
       "      <td>0</td>\n",
       "      <td>0.0</td>\n",
       "    </tr>\n",
       "    <tr>\n",
       "      <th>105</th>\n",
       "      <td>2020-08-23 19:49:00</td>\n",
       "      <td>2.27</td>\n",
       "      <td>2.42</td>\n",
       "      <td>0.0</td>\n",
       "      <td>0.13</td>\n",
       "      <td>0.0</td>\n",
       "      <td>6.18</td>\n",
       "      <td>1.36</td>\n",
       "      <td>0</td>\n",
       "      <td>0.0</td>\n",
       "    </tr>\n",
       "    <tr>\n",
       "      <th>106</th>\n",
       "      <td>2020-08-23 20:16:00</td>\n",
       "      <td>2.34</td>\n",
       "      <td>5.77</td>\n",
       "      <td>0.0</td>\n",
       "      <td>1.27</td>\n",
       "      <td>0.0</td>\n",
       "      <td>10.78</td>\n",
       "      <td>1.40</td>\n",
       "      <td>0</td>\n",
       "      <td>0.0</td>\n",
       "    </tr>\n",
       "  </tbody>\n",
       "</table>\n",
       "</div>"
      ],
      "text/plain": [
       "              Date/Time  Base Fare   Tip  Surge  Trip Supplement  \\\n",
       "102 2020-08-23 18:47:00       4.54  7.87    0.0             4.09   \n",
       "103 2020-08-23 19:04:00       2.78  7.86    1.0             2.92   \n",
       "104 2020-08-23 19:39:00       3.48  5.10    0.0             0.00   \n",
       "105 2020-08-23 19:49:00       2.27  2.42    0.0             0.13   \n",
       "106 2020-08-23 20:16:00       2.34  5.77    0.0             1.27   \n",
       "\n",
       "     Quest Promotion  Total Boost Toll  Other Promotions  \n",
       "102              0.0  19.22  2.72    0               0.0  \n",
       "103              0.0  16.23  1.67    0               0.0  \n",
       "104              0.0  10.67  2.09    0               0.0  \n",
       "105              0.0   6.18  1.36    0               0.0  \n",
       "106              0.0  10.78  1.40    0               0.0  "
      ]
     },
     "execution_count": 10,
     "metadata": {},
     "output_type": "execute_result"
    }
   ],
   "source": [
    "base_df = fn.get_df(data_base_dir,weekly_driving_history )\n",
    "\n",
    "base_df = fn.clean_dataframe(base_df)\n",
    "\n",
    "base_df.tail()"
   ]
  },
  {
   "cell_type": "code",
   "execution_count": 9,
   "metadata": {},
   "outputs": [
    {
     "data": {
      "image/png": "[encoded data removed]",
      "text/plain": [
       "<Figure size 1152x576 with 2 Axes>"
      ]
     },
     "metadata": {
      "needs_background": "light"
     },
     "output_type": "display_data"
    }
   ],
   "source": [
    "fn.corr_plot(base_df)"
   ]
  },
  {
   "cell_type": "code",
   "execution_count": null,
   "metadata": {},
   "outputs": [],
   "source": []
  }
 ],
 "metadata": {
  "kernelspec": {
   "display_name": "Python 3",
   "language": "python",
   "name": "python3"
  },
  "language_info": {
   "codemirror_mode": {
    "name": "ipython",
    "version": 3
   },
   "file_extension": ".py",
   "mimetype": "text/x-python",
   "name": "python",
   "nbconvert_exporter": "python",
   "pygments_lexer": "ipython3",
   "version": "3.7.4"
  }
 },
 "nbformat": 4,
 "nbformat_minor": 4
}
