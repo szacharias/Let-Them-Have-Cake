{
 "cells": [
  {
   "cell_type": "code",
   "execution_count": 1,
   "metadata": {},
   "outputs": [],
   "source": [
    "import numpy as np\n",
    "import pandas as pd\n",
    "import json\n",
    "import datetime\n"
   ]
  },
  {
   "cell_type": "code",
   "execution_count": 5,
   "metadata": {},
   "outputs": [
    {
     "data": {
      "application/javascript": [
       "\n",
       "        if (window._pyforest_update_imports_cell) { window._pyforest_update_imports_cell('import os'); }\n",
       "    "
      ],
      "text/plain": [
       "<IPython.core.display.Javascript object>"
      ]
     },
     "metadata": {},
     "output_type": "display_data"
    },
    {
     "data": {
      "text/plain": [
       "['2020_APRIL.json',\n",
       " '2020_JULY.json',\n",
       " '2020_JUNE.json',\n",
       " '2020_FEBRUARY.json',\n",
       " '2020_AUGUST.json',\n",
       " '2020_MARCH.json',\n",
       " '2020_MAY.json',\n",
       " '2020_JANUARY.json']"
      ]
     },
     "execution_count": 5,
     "metadata": {},
     "output_type": "execute_result"
    }
   ],
   "source": [
    "data_base_dir = \"../Data/Google Location/\"\n",
    "maps_monthly_data = os.listdir(data_base_dir)\n",
    "maps_monthly_data"
   ]
  },
  {
   "cell_type": "code",
   "execution_count": 32,
   "metadata": {},
   "outputs": [
    {
     "name": "stdout",
     "output_type": "stream",
     "text": [
      "../Data/Google Location/2020_APRIL.json\n"
     ]
    }
   ],
   "source": [
    "data_1_name = data_base_dir + maps_monthly_data[0]\n",
    "print(data_1_name)"
   ]
  },
  {
   "cell_type": "code",
   "execution_count": 71,
   "metadata": {},
   "outputs": [],
   "source": [
    "df = pd.DataFrame()\n",
    "with open(data_1_name, 'r') as j:\n",
    "    json_data = json.load(j)\n",
    "#     print(json_data)\n",
    "    df = pd.DataFrame(json_data)"
   ]
  },
  {
   "cell_type": "code",
   "execution_count": 40,
   "metadata": {},
   "outputs": [
    {
     "data": {
      "text/plain": [
       "dict"
      ]
     },
     "execution_count": 40,
     "metadata": {},
     "output_type": "execute_result"
    }
   ],
   "source": [
    "type(json_data)"
   ]
  },
  {
   "cell_type": "code",
   "execution_count": 60,
   "metadata": {},
   "outputs": [
    {
     "data": {
      "text/plain": [
       "{'startLocation': {'latitudeE7': 430036764, 'longitudeE7': -788115872},\n",
       " 'endLocation': {'latitudeE7': 429915968, 'longitudeE7': -788193962},\n",
       " 'duration': {'startTimestampMs': '1585938671085',\n",
       "  'endTimestampMs': '1585939209407'},\n",
       " 'distance': 1730,\n",
       " 'activityType': 'IN_PASSENGER_VEHICLE',\n",
       " 'confidence': 'HIGH',\n",
       " 'activities': [{'activityType': 'IN_PASSENGER_VEHICLE',\n",
       "   'probability': 91.86533093452454},\n",
       "  {'activityType': 'WALKING', 'probability': 4.471015930175781},\n",
       "  {'activityType': 'STILL', 'probability': 1.440364308655262},\n",
       "  {'activityType': 'CYCLING', 'probability': 0.9803937748074532},\n",
       "  {'activityType': 'MOTORCYCLING', 'probability': 0.40671275928616524},\n",
       "  {'activityType': 'IN_BUS', 'probability': 0.37116024177521467},\n",
       "  {'activityType': 'IN_FERRY', 'probability': 0.19966436084359884},\n",
       "  {'activityType': 'RUNNING', 'probability': 0.162585754878819},\n",
       "  {'activityType': 'SKIING', 'probability': 0.03847315383609384},\n",
       "  {'activityType': 'FLYING', 'probability': 0.027017176034860313},\n",
       "  {'activityType': 'IN_TRAM', 'probability': 0.02012310578720644},\n",
       "  {'activityType': 'SAILING', 'probability': 0.008811191219137982},\n",
       "  {'activityType': 'IN_TRAIN', 'probability': 0.006351168849505484},\n",
       "  {'activityType': 'IN_SUBWAY', 'probability': 0.0019385439372854307},\n",
       "  {'activityType': 'IN_VEHICLE', 'probability': 5.405012757364602e-05}],\n",
       " 'waypointPath': {'waypoints': [{'latE7': 430037651, 'lngE7': -788119125},\n",
       "   {'latE7': 430039787, 'lngE7': -787987976},\n",
       "   {'latE7': 429914588, 'lngE7': -788193969}]},\n",
       " 'parkingEvent': {'timestampMs': '1585939164922',\n",
       "  'location': {'latitudeE7': 429912149,\n",
       "   'longitudeE7': -788187485,\n",
       "   'accuracyMetres': 92}}}"
      ]
     },
     "execution_count": 60,
     "metadata": {},
     "output_type": "execute_result"
    }
   ],
   "source": [
    "json_data.get('timelineObjects')[0].get('activitySegment')"
   ]
  },
  {
   "cell_type": "code",
   "execution_count": 67,
   "metadata": {},
   "outputs": [
    {
     "name": "stdout",
     "output_type": "stream",
     "text": [
      "2020-04-03T14:40:09.407000\n"
     ]
    }
   ],
   "source": [
    "\n",
    "readable = datetime.datetime.fromtimestamp(1585939209407/1000.0).isoformat()\n",
    "print(readable)"
   ]
  },
  {
   "cell_type": "code",
   "execution_count": 50,
   "metadata": {},
   "outputs": [
    {
     "data": {
      "text/html": [
       "<div>\n",
       "<style scoped>\n",
       "    .dataframe tbody tr th:only-of-type {\n",
       "        vertical-align: middle;\n",
       "    }\n",
       "\n",
       "    .dataframe tbody tr th {\n",
       "        vertical-align: top;\n",
       "    }\n",
       "\n",
       "    .dataframe thead th {\n",
       "        text-align: right;\n",
       "    }\n",
       "</style>\n",
       "<table border=\"1\" class=\"dataframe\">\n",
       "  <thead>\n",
       "    <tr style=\"text-align: right;\">\n",
       "      <th></th>\n",
       "      <th>activitySegment</th>\n",
       "      <th>placeVisit</th>\n",
       "    </tr>\n",
       "  </thead>\n",
       "  <tbody>\n",
       "    <tr>\n",
       "      <th>0</th>\n",
       "      <td>{'startLocation': {'latitudeE7': 430036764, 'l...</td>\n",
       "      <td>NaN</td>\n",
       "    </tr>\n",
       "    <tr>\n",
       "      <th>1</th>\n",
       "      <td>NaN</td>\n",
       "      <td>{'location': {'latitudeE7': 429917074, 'longit...</td>\n",
       "    </tr>\n",
       "    <tr>\n",
       "      <th>2</th>\n",
       "      <td>{'startLocation': {'latitudeE7': 429919164, 'l...</td>\n",
       "      <td>NaN</td>\n",
       "    </tr>\n",
       "    <tr>\n",
       "      <th>3</th>\n",
       "      <td>NaN</td>\n",
       "      <td>{'location': {'latitudeE7': 430044576, 'longit...</td>\n",
       "    </tr>\n",
       "    <tr>\n",
       "      <th>4</th>\n",
       "      <td>{'startLocation': {'latitudeE7': 430039205, 'l...</td>\n",
       "      <td>NaN</td>\n",
       "    </tr>\n",
       "    <tr>\n",
       "      <th>5</th>\n",
       "      <td>NaN</td>\n",
       "      <td>{'location': {'latitudeE7': 430052110, 'longit...</td>\n",
       "    </tr>\n",
       "    <tr>\n",
       "      <th>6</th>\n",
       "      <td>{'startLocation': {'latitudeE7': 430064610, 'l...</td>\n",
       "      <td>NaN</td>\n",
       "    </tr>\n",
       "    <tr>\n",
       "      <th>7</th>\n",
       "      <td>NaN</td>\n",
       "      <td>{'location': {'latitudeE7': 430044576, 'longit...</td>\n",
       "    </tr>\n",
       "    <tr>\n",
       "      <th>8</th>\n",
       "      <td>{'startLocation': {'latitudeE7': 430036759, 'l...</td>\n",
       "      <td>NaN</td>\n",
       "    </tr>\n",
       "    <tr>\n",
       "      <th>9</th>\n",
       "      <td>NaN</td>\n",
       "      <td>{'location': {'latitudeE7': 430044576, 'longit...</td>\n",
       "    </tr>\n",
       "    <tr>\n",
       "      <th>10</th>\n",
       "      <td>{'startLocation': {'latitudeE7': 429965454, 'l...</td>\n",
       "      <td>NaN</td>\n",
       "    </tr>\n",
       "    <tr>\n",
       "      <th>11</th>\n",
       "      <td>NaN</td>\n",
       "      <td>{'location': {'latitudeE7': 430057840, 'longit...</td>\n",
       "    </tr>\n",
       "    <tr>\n",
       "      <th>12</th>\n",
       "      <td>{'startLocation': {'latitudeE7': 430043551, 'l...</td>\n",
       "      <td>NaN</td>\n",
       "    </tr>\n",
       "    <tr>\n",
       "      <th>13</th>\n",
       "      <td>NaN</td>\n",
       "      <td>{'location': {'latitudeE7': 430044576, 'longit...</td>\n",
       "    </tr>\n",
       "    <tr>\n",
       "      <th>14</th>\n",
       "      <td>{'startLocation': {'latitudeE7': 430036689, 'l...</td>\n",
       "      <td>NaN</td>\n",
       "    </tr>\n",
       "    <tr>\n",
       "      <th>15</th>\n",
       "      <td>NaN</td>\n",
       "      <td>{'location': {'latitudeE7': 430044576, 'longit...</td>\n",
       "    </tr>\n",
       "    <tr>\n",
       "      <th>16</th>\n",
       "      <td>{'startLocation': {'latitudeE7': 430037933, 'l...</td>\n",
       "      <td>NaN</td>\n",
       "    </tr>\n",
       "    <tr>\n",
       "      <th>17</th>\n",
       "      <td>NaN</td>\n",
       "      <td>{'location': {'latitudeE7': 430405230, 'longit...</td>\n",
       "    </tr>\n",
       "    <tr>\n",
       "      <th>18</th>\n",
       "      <td>{'startLocation': {'latitudeE7': 430404293, 'l...</td>\n",
       "      <td>NaN</td>\n",
       "    </tr>\n",
       "    <tr>\n",
       "      <th>19</th>\n",
       "      <td>NaN</td>\n",
       "      <td>{'location': {'latitudeE7': 430044576, 'longit...</td>\n",
       "    </tr>\n",
       "    <tr>\n",
       "      <th>20</th>\n",
       "      <td>{'startLocation': {'latitudeE7': 430036705, 'l...</td>\n",
       "      <td>NaN</td>\n",
       "    </tr>\n",
       "    <tr>\n",
       "      <th>21</th>\n",
       "      <td>NaN</td>\n",
       "      <td>{'location': {'latitudeE7': 430044576, 'longit...</td>\n",
       "    </tr>\n",
       "    <tr>\n",
       "      <th>22</th>\n",
       "      <td>{'startLocation': {'latitudeE7': 430041407, 'l...</td>\n",
       "      <td>NaN</td>\n",
       "    </tr>\n",
       "    <tr>\n",
       "      <th>23</th>\n",
       "      <td>NaN</td>\n",
       "      <td>{'location': {'latitudeE7': 430044576, 'longit...</td>\n",
       "    </tr>\n",
       "    <tr>\n",
       "      <th>24</th>\n",
       "      <td>{'startLocation': {'latitudeE7': 430037624, 'l...</td>\n",
       "      <td>NaN</td>\n",
       "    </tr>\n",
       "    <tr>\n",
       "      <th>25</th>\n",
       "      <td>NaN</td>\n",
       "      <td>{'location': {'latitudeE7': 429647793, 'longit...</td>\n",
       "    </tr>\n",
       "    <tr>\n",
       "      <th>26</th>\n",
       "      <td>{'startLocation': {'latitudeE7': 429645290, 'l...</td>\n",
       "      <td>NaN</td>\n",
       "    </tr>\n",
       "    <tr>\n",
       "      <th>27</th>\n",
       "      <td>NaN</td>\n",
       "      <td>{'location': {'latitudeE7': 430044576, 'longit...</td>\n",
       "    </tr>\n",
       "    <tr>\n",
       "      <th>28</th>\n",
       "      <td>{'startLocation': {'latitudeE7': 430037671, 'l...</td>\n",
       "      <td>NaN</td>\n",
       "    </tr>\n",
       "    <tr>\n",
       "      <th>29</th>\n",
       "      <td>NaN</td>\n",
       "      <td>{'location': {'latitudeE7': 430044576, 'longit...</td>\n",
       "    </tr>\n",
       "  </tbody>\n",
       "</table>\n",
       "</div>"
      ],
      "text/plain": [
       "                                      activitySegment  \\\n",
       "0   {'startLocation': {'latitudeE7': 430036764, 'l...   \n",
       "1                                                 NaN   \n",
       "2   {'startLocation': {'latitudeE7': 429919164, 'l...   \n",
       "3                                                 NaN   \n",
       "4   {'startLocation': {'latitudeE7': 430039205, 'l...   \n",
       "5                                                 NaN   \n",
       "6   {'startLocation': {'latitudeE7': 430064610, 'l...   \n",
       "7                                                 NaN   \n",
       "8   {'startLocation': {'latitudeE7': 430036759, 'l...   \n",
       "9                                                 NaN   \n",
       "10  {'startLocation': {'latitudeE7': 429965454, 'l...   \n",
       "11                                                NaN   \n",
       "12  {'startLocation': {'latitudeE7': 430043551, 'l...   \n",
       "13                                                NaN   \n",
       "14  {'startLocation': {'latitudeE7': 430036689, 'l...   \n",
       "15                                                NaN   \n",
       "16  {'startLocation': {'latitudeE7': 430037933, 'l...   \n",
       "17                                                NaN   \n",
       "18  {'startLocation': {'latitudeE7': 430404293, 'l...   \n",
       "19                                                NaN   \n",
       "20  {'startLocation': {'latitudeE7': 430036705, 'l...   \n",
       "21                                                NaN   \n",
       "22  {'startLocation': {'latitudeE7': 430041407, 'l...   \n",
       "23                                                NaN   \n",
       "24  {'startLocation': {'latitudeE7': 430037624, 'l...   \n",
       "25                                                NaN   \n",
       "26  {'startLocation': {'latitudeE7': 429645290, 'l...   \n",
       "27                                                NaN   \n",
       "28  {'startLocation': {'latitudeE7': 430037671, 'l...   \n",
       "29                                                NaN   \n",
       "\n",
       "                                           placeVisit  \n",
       "0                                                 NaN  \n",
       "1   {'location': {'latitudeE7': 429917074, 'longit...  \n",
       "2                                                 NaN  \n",
       "3   {'location': {'latitudeE7': 430044576, 'longit...  \n",
       "4                                                 NaN  \n",
       "5   {'location': {'latitudeE7': 430052110, 'longit...  \n",
       "6                                                 NaN  \n",
       "7   {'location': {'latitudeE7': 430044576, 'longit...  \n",
       "8                                                 NaN  \n",
       "9   {'location': {'latitudeE7': 430044576, 'longit...  \n",
       "10                                                NaN  \n",
       "11  {'location': {'latitudeE7': 430057840, 'longit...  \n",
       "12                                                NaN  \n",
       "13  {'location': {'latitudeE7': 430044576, 'longit...  \n",
       "14                                                NaN  \n",
       "15  {'location': {'latitudeE7': 430044576, 'longit...  \n",
       "16                                                NaN  \n",
       "17  {'location': {'latitudeE7': 430405230, 'longit...  \n",
       "18                                                NaN  \n",
       "19  {'location': {'latitudeE7': 430044576, 'longit...  \n",
       "20                                                NaN  \n",
       "21  {'location': {'latitudeE7': 430044576, 'longit...  \n",
       "22                                                NaN  \n",
       "23  {'location': {'latitudeE7': 430044576, 'longit...  \n",
       "24                                                NaN  \n",
       "25  {'location': {'latitudeE7': 429647793, 'longit...  \n",
       "26                                                NaN  \n",
       "27  {'location': {'latitudeE7': 430044576, 'longit...  \n",
       "28                                                NaN  \n",
       "29  {'location': {'latitudeE7': 430044576, 'longit...  "
      ]
     },
     "execution_count": 50,
     "metadata": {},
     "output_type": "execute_result"
    }
   ],
   "source": [
    "pd.DataFrame(json_data.get('timelineObjects'))"
   ]
  },
  {
   "cell_type": "code",
   "execution_count": 41,
   "metadata": {},
   "outputs": [
    {
     "data": {
      "text/plain": [
       "pandas.core.frame.DataFrame"
      ]
     },
     "execution_count": 41,
     "metadata": {},
     "output_type": "execute_result"
    }
   ],
   "source": [
    "type(df)"
   ]
  },
  {
   "cell_type": "code",
   "execution_count": 75,
   "metadata": {},
   "outputs": [
    {
     "data": {
      "text/plain": [
       "array([{'activitySegment': {'startLocation': {'latitudeE7': 430036764, 'longitudeE7': -788115872}, 'endLocation': {'latitudeE7': 429915968, 'longitudeE7': -788193962}, 'duration': {'startTimestampMs': '1585938671085', 'endTimestampMs': '1585939209407'}, 'distance': 1730, 'activityType': 'IN_PASSENGER_VEHICLE', 'confidence': 'HIGH', 'activities': [{'activityType': 'IN_PASSENGER_VEHICLE', 'probability': 91.86533093452454}, {'activityType': 'WALKING', 'probability': 4.471015930175781}, {'activityType': 'STILL', 'probability': 1.440364308655262}, {'activityType': 'CYCLING', 'probability': 0.9803937748074532}, {'activityType': 'MOTORCYCLING', 'probability': 0.40671275928616524}, {'activityType': 'IN_BUS', 'probability': 0.37116024177521467}, {'activityType': 'IN_FERRY', 'probability': 0.19966436084359884}, {'activityType': 'RUNNING', 'probability': 0.162585754878819}, {'activityType': 'SKIING', 'probability': 0.03847315383609384}, {'activityType': 'FLYING', 'probability': 0.027017176034860313}, {'activityType': 'IN_TRAM', 'probability': 0.02012310578720644}, {'activityType': 'SAILING', 'probability': 0.008811191219137982}, {'activityType': 'IN_TRAIN', 'probability': 0.006351168849505484}, {'activityType': 'IN_SUBWAY', 'probability': 0.0019385439372854307}, {'activityType': 'IN_VEHICLE', 'probability': 5.405012757364602e-05}], 'waypointPath': {'waypoints': [{'latE7': 430037651, 'lngE7': -788119125}, {'latE7': 430039787, 'lngE7': -787987976}, {'latE7': 429914588, 'lngE7': -788193969}]}, 'parkingEvent': {'timestampMs': '1585939164922', 'location': {'latitudeE7': 429912149, 'longitudeE7': -788187485, 'accuracyMetres': 92}}}}],\n",
       "      dtype=object)"
      ]
     },
     "execution_count": 75,
     "metadata": {},
     "output_type": "execute_result"
    }
   ],
   "source": [
    "df.iloc[0].values"
   ]
  }
 ],
 "metadata": {
  "kernelspec": {
   "display_name": "Python 3",
   "language": "python",
   "name": "python3"
  },
  "language_info": {
   "codemirror_mode": {
    "name": "ipython",
    "version": 3
   },
   "file_extension": ".py",
   "mimetype": "text/x-python",
   "name": "python",
   "nbconvert_exporter": "python",
   "pygments_lexer": "ipython3",
   "version": "3.7.4"
  }
 },
 "nbformat": 4,
 "nbformat_minor": 4
}
